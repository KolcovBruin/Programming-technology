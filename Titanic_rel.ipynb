{
 "cells": [
  {
   "cell_type": "code",
   "execution_count": null,
   "metadata": {},
   "outputs": [],
   "source": [
    "import pandas as pd #импорт библиотеки pandas по именем pd - библиотека для работы с dataset\n",
    "data = pd.read_csv('https://query.data.world/s/qq2jvj4pyj6zakmcppywdub6tj4u6x') #подключние database\n",
    "data [10:25] # вывод с 10 строки по 25"
   ]
  },
  {
   "cell_type": "code",
   "execution_count": 10,
   "metadata": {},
   "outputs": [],
   "source": [
    "#приведение в числовой вид\n",
    "data['StatusCode']=(data['Status']==\"Survivor\").astype(int) #astype - задание типа столбца (фичи)\n",
    "data['GenderCode']=(data['Gender']==\"Male\").astype(int)"
   ]
  },
  {
   "cell_type": "code",
   "execution_count": 16,
   "metadata": {
    "collapsed": true,
    "jupyter": {
     "outputs_hidden": true
    }
   },
   "outputs": [],
   "source": [
    "#создание возростных групп\n",
    "data['AgeGroup']=data['Age']\n",
    "data['AgeGroup'].fillna(-1, inplace=True)#замена неизвестных значений на -1\n",
    "data['AgeGroup']=data['AgeGroup'].map(lambda age: int(age//10)+1)#создание возростной группы с промежутком по 10 лет"
   ]
  },
  {
   "cell_type": "code",
   "execution_count": 17,
   "metadata": {
    "collapsed": true,
    "jupyter": {
     "outputs_hidden": true
    }
   },
   "outputs": [],
   "source": [
    "#удаление не нужных строк\n",
    "del data['Disembarked at']\n",
    "del data['Home Country']\n",
    "del data['Year of Birth']\n",
    "del data['Class / Department']\n",
    "del data['Job']\n",
    "del data['Job details']\n",
    "del data['Ticket Number']\n",
    "del data['Fare Price']\n",
    "del data['Profile on Encyclopedia Titanica']"
   ]
  },
  {
   "cell_type": "code",
   "execution_count": 18,
   "metadata": {
    "collapsed": true,
    "jupyter": {
     "outputs_hidden": true
    }
   },
   "outputs": [
    {
     "data": {
      "text/html": [
       "<div>\n",
       "<style scoped>\n",
       "    .dataframe tbody tr th:only-of-type {\n",
       "        vertical-align: middle;\n",
       "    }\n",
       "\n",
       "    .dataframe tbody tr th {\n",
       "        vertical-align: top;\n",
       "    }\n",
       "\n",
       "    .dataframe thead th {\n",
       "        text-align: right;\n",
       "    }\n",
       "</style>\n",
       "<table border=\"1\" class=\"dataframe\">\n",
       "  <thead>\n",
       "    <tr style=\"text-align: right;\">\n",
       "      <th></th>\n",
       "      <th>Titanic passager</th>\n",
       "      <th>Status</th>\n",
       "      <th>Age</th>\n",
       "      <th>Crew or Passenger?</th>\n",
       "      <th>Gender</th>\n",
       "      <th>Embarked</th>\n",
       "      <th>StatusCode</th>\n",
       "      <th>GenderCode</th>\n",
       "      <th>AgeGroup</th>\n",
       "    </tr>\n",
       "  </thead>\n",
       "  <tbody>\n",
       "    <tr>\n",
       "      <th>10</th>\n",
       "      <td>PARKER, Mr Clifford Richard</td>\n",
       "      <td>Victim</td>\n",
       "      <td>28.0</td>\n",
       "      <td>Passenger</td>\n",
       "      <td>Male</td>\n",
       "      <td>Southampton</td>\n",
       "      <td>0</td>\n",
       "      <td>1</td>\n",
       "      <td>3</td>\n",
       "    </tr>\n",
       "    <tr>\n",
       "      <th>11</th>\n",
       "      <td>MITCHELL, Mr Henry Michael</td>\n",
       "      <td>Victim</td>\n",
       "      <td>71.0</td>\n",
       "      <td>Passenger</td>\n",
       "      <td>Male</td>\n",
       "      <td>Southampton</td>\n",
       "      <td>0</td>\n",
       "      <td>1</td>\n",
       "      <td>8</td>\n",
       "    </tr>\n",
       "    <tr>\n",
       "      <th>12</th>\n",
       "      <td>PAIN, Dr Alfred</td>\n",
       "      <td>Victim</td>\n",
       "      <td>23.0</td>\n",
       "      <td>Passenger</td>\n",
       "      <td>Male</td>\n",
       "      <td>Southampton</td>\n",
       "      <td>0</td>\n",
       "      <td>1</td>\n",
       "      <td>3</td>\n",
       "    </tr>\n",
       "    <tr>\n",
       "      <th>13</th>\n",
       "      <td>LEYSON, Mr Robert William Norman</td>\n",
       "      <td>Victim</td>\n",
       "      <td>25.0</td>\n",
       "      <td>Passenger</td>\n",
       "      <td>Male</td>\n",
       "      <td>Southampton</td>\n",
       "      <td>0</td>\n",
       "      <td>1</td>\n",
       "      <td>3</td>\n",
       "    </tr>\n",
       "    <tr>\n",
       "      <th>14</th>\n",
       "      <td>WHEADON, Mr Edward H.</td>\n",
       "      <td>Victim</td>\n",
       "      <td>66.0</td>\n",
       "      <td>Passenger</td>\n",
       "      <td>Male</td>\n",
       "      <td>Southampton</td>\n",
       "      <td>0</td>\n",
       "      <td>1</td>\n",
       "      <td>7</td>\n",
       "    </tr>\n",
       "    <tr>\n",
       "      <th>15</th>\n",
       "      <td>BAINBRIGGE, Mr Charles Robert</td>\n",
       "      <td>Victim</td>\n",
       "      <td>23.0</td>\n",
       "      <td>Passenger</td>\n",
       "      <td>Male</td>\n",
       "      <td>Southampton</td>\n",
       "      <td>0</td>\n",
       "      <td>1</td>\n",
       "      <td>3</td>\n",
       "    </tr>\n",
       "    <tr>\n",
       "      <th>16</th>\n",
       "      <td>OXENHAM, Mr Percy Thomas</td>\n",
       "      <td>Survivor</td>\n",
       "      <td>22.0</td>\n",
       "      <td>Passenger</td>\n",
       "      <td>Male</td>\n",
       "      <td>Southampton</td>\n",
       "      <td>1</td>\n",
       "      <td>1</td>\n",
       "      <td>3</td>\n",
       "    </tr>\n",
       "    <tr>\n",
       "      <th>17</th>\n",
       "      <td>KVILLNER, Mr Johan Henrik Johannesson</td>\n",
       "      <td>Victim</td>\n",
       "      <td>31.0</td>\n",
       "      <td>Passenger</td>\n",
       "      <td>Male</td>\n",
       "      <td>Southampton</td>\n",
       "      <td>0</td>\n",
       "      <td>1</td>\n",
       "      <td>4</td>\n",
       "    </tr>\n",
       "    <tr>\n",
       "      <th>18</th>\n",
       "      <td>ANDREW, Mr Frank Thomas</td>\n",
       "      <td>Victim</td>\n",
       "      <td>25.0</td>\n",
       "      <td>Passenger</td>\n",
       "      <td>Male</td>\n",
       "      <td>Southampton</td>\n",
       "      <td>0</td>\n",
       "      <td>1</td>\n",
       "      <td>3</td>\n",
       "    </tr>\n",
       "    <tr>\n",
       "      <th>19</th>\n",
       "      <td>BANFIELD, Mr Frederick James</td>\n",
       "      <td>Victim</td>\n",
       "      <td>28.0</td>\n",
       "      <td>Passenger</td>\n",
       "      <td>Male</td>\n",
       "      <td>Southampton</td>\n",
       "      <td>0</td>\n",
       "      <td>1</td>\n",
       "      <td>3</td>\n",
       "    </tr>\n",
       "    <tr>\n",
       "      <th>20</th>\n",
       "      <td>JENKIN, Mr Stephen Curnow</td>\n",
       "      <td>Victim</td>\n",
       "      <td>32.0</td>\n",
       "      <td>Passenger</td>\n",
       "      <td>Male</td>\n",
       "      <td>Southampton</td>\n",
       "      <td>0</td>\n",
       "      <td>1</td>\n",
       "      <td>4</td>\n",
       "    </tr>\n",
       "    <tr>\n",
       "      <th>21</th>\n",
       "      <td>PENGELLY, Mr Frederick William</td>\n",
       "      <td>Victim</td>\n",
       "      <td>19.0</td>\n",
       "      <td>Passenger</td>\n",
       "      <td>Male</td>\n",
       "      <td>Southampton</td>\n",
       "      <td>0</td>\n",
       "      <td>1</td>\n",
       "      <td>2</td>\n",
       "    </tr>\n",
       "    <tr>\n",
       "      <th>22</th>\n",
       "      <td>FILLBROOK, Mr Joseph Charles</td>\n",
       "      <td>Victim</td>\n",
       "      <td>18.0</td>\n",
       "      <td>Passenger</td>\n",
       "      <td>Male</td>\n",
       "      <td>Southampton</td>\n",
       "      <td>0</td>\n",
       "      <td>1</td>\n",
       "      <td>2</td>\n",
       "    </tr>\n",
       "    <tr>\n",
       "      <th>23</th>\n",
       "      <td>MELLORS, Mr William John</td>\n",
       "      <td>Survivor</td>\n",
       "      <td>19.0</td>\n",
       "      <td>Passenger</td>\n",
       "      <td>Male</td>\n",
       "      <td>Southampton</td>\n",
       "      <td>1</td>\n",
       "      <td>1</td>\n",
       "      <td>2</td>\n",
       "    </tr>\n",
       "    <tr>\n",
       "      <th>24</th>\n",
       "      <td>TOOMEY, Miss Ellen Mary</td>\n",
       "      <td>Survivor</td>\n",
       "      <td>48.0</td>\n",
       "      <td>Passenger</td>\n",
       "      <td>Female</td>\n",
       "      <td>Southampton</td>\n",
       "      <td>1</td>\n",
       "      <td>0</td>\n",
       "      <td>5</td>\n",
       "    </tr>\n",
       "  </tbody>\n",
       "</table>\n",
       "</div>"
      ],
      "text/plain": [
       "                         Titanic passager    Status   Age Crew or Passenger?  \\\n",
       "10            PARKER, Mr Clifford Richard    Victim  28.0          Passenger   \n",
       "11             MITCHELL, Mr Henry Michael    Victim  71.0          Passenger   \n",
       "12                        PAIN, Dr Alfred    Victim  23.0          Passenger   \n",
       "13       LEYSON, Mr Robert William Norman    Victim  25.0          Passenger   \n",
       "14                  WHEADON, Mr Edward H.    Victim  66.0          Passenger   \n",
       "15          BAINBRIGGE, Mr Charles Robert    Victim  23.0          Passenger   \n",
       "16               OXENHAM, Mr Percy Thomas  Survivor  22.0          Passenger   \n",
       "17  KVILLNER, Mr Johan Henrik Johannesson    Victim  31.0          Passenger   \n",
       "18                ANDREW, Mr Frank Thomas    Victim  25.0          Passenger   \n",
       "19           BANFIELD, Mr Frederick James    Victim  28.0          Passenger   \n",
       "20              JENKIN, Mr Stephen Curnow    Victim  32.0          Passenger   \n",
       "21         PENGELLY, Mr Frederick William    Victim  19.0          Passenger   \n",
       "22           FILLBROOK, Mr Joseph Charles    Victim  18.0          Passenger   \n",
       "23               MELLORS, Mr William John  Survivor  19.0          Passenger   \n",
       "24                TOOMEY, Miss Ellen Mary  Survivor  48.0          Passenger   \n",
       "\n",
       "    Gender     Embarked  StatusCode  GenderCode  AgeGroup  \n",
       "10    Male  Southampton           0           1         3  \n",
       "11    Male  Southampton           0           1         8  \n",
       "12    Male  Southampton           0           1         3  \n",
       "13    Male  Southampton           0           1         3  \n",
       "14    Male  Southampton           0           1         7  \n",
       "15    Male  Southampton           0           1         3  \n",
       "16    Male  Southampton           1           1         3  \n",
       "17    Male  Southampton           0           1         4  \n",
       "18    Male  Southampton           0           1         3  \n",
       "19    Male  Southampton           0           1         3  \n",
       "20    Male  Southampton           0           1         4  \n",
       "21    Male  Southampton           0           1         2  \n",
       "22    Male  Southampton           0           1         2  \n",
       "23    Male  Southampton           1           1         2  \n",
       "24  Female  Southampton           1           0         5  "
      ]
     },
     "execution_count": 18,
     "metadata": {},
     "output_type": "execute_result"
    }
   ],
   "source": [
    "#вывод после удаления строк\n",
    "data [10:25]"
   ]
  },
  {
   "cell_type": "code",
   "execution_count": 49,
   "metadata": {
    "collapsed": true,
    "jupyter": {
     "outputs_hidden": true
    }
   },
   "outputs": [
    {
     "data": {
      "text/html": [
       "<div>\n",
       "<style scoped>\n",
       "    .dataframe tbody tr th:only-of-type {\n",
       "        vertical-align: middle;\n",
       "    }\n",
       "\n",
       "    .dataframe tbody tr th {\n",
       "        vertical-align: top;\n",
       "    }\n",
       "\n",
       "    .dataframe thead th {\n",
       "        text-align: right;\n",
       "    }\n",
       "</style>\n",
       "<table border=\"1\" class=\"dataframe\">\n",
       "  <thead>\n",
       "    <tr style=\"text-align: right;\">\n",
       "      <th>Status</th>\n",
       "      <th>Survivor</th>\n",
       "      <th>Victim</th>\n",
       "    </tr>\n",
       "    <tr>\n",
       "      <th>Gender</th>\n",
       "      <th></th>\n",
       "      <th></th>\n",
       "    </tr>\n",
       "  </thead>\n",
       "  <tbody>\n",
       "    <tr>\n",
       "      <th>Female</th>\n",
       "      <td>359</td>\n",
       "      <td>130</td>\n",
       "    </tr>\n",
       "    <tr>\n",
       "      <th>Male</th>\n",
       "      <td>352</td>\n",
       "      <td>1366</td>\n",
       "    </tr>\n",
       "  </tbody>\n",
       "</table>\n",
       "</div>"
      ],
      "text/plain": [
       "Status  Survivor  Victim\n",
       "Gender                  \n",
       "Female       359     130\n",
       "Male         352    1366"
      ]
     },
     "execution_count": 49,
     "metadata": {},
     "output_type": "execute_result"
    }
   ],
   "source": [
    "#создание dataset, отображающего зависимость пола и статуса выживания\n",
    "Gender_by_status=data.groupby(['Gender','Status']) #группировка по столбцу\n",
    "Gender_by_status=Gender_by_status.size().unstack() #создание из стобцов отдельного dataset\n",
    "Gender_by_status"
   ]
  },
  {
   "cell_type": "code",
   "execution_count": 50,
   "metadata": {
    "collapsed": true,
    "jupyter": {
     "outputs_hidden": true
    }
   },
   "outputs": [
    {
     "data": {
      "text/html": [
       "<div>\n",
       "<style scoped>\n",
       "    .dataframe tbody tr th:only-of-type {\n",
       "        vertical-align: middle;\n",
       "    }\n",
       "\n",
       "    .dataframe tbody tr th {\n",
       "        vertical-align: top;\n",
       "    }\n",
       "\n",
       "    .dataframe thead th {\n",
       "        text-align: right;\n",
       "    }\n",
       "</style>\n",
       "<table border=\"1\" class=\"dataframe\">\n",
       "  <thead>\n",
       "    <tr style=\"text-align: right;\">\n",
       "      <th>Status</th>\n",
       "      <th>Survivor</th>\n",
       "      <th>Victim</th>\n",
       "    </tr>\n",
       "    <tr>\n",
       "      <th>AgeGroup</th>\n",
       "      <th></th>\n",
       "      <th></th>\n",
       "    </tr>\n",
       "  </thead>\n",
       "  <tbody>\n",
       "    <tr>\n",
       "      <th>0</th>\n",
       "      <td>0.0</td>\n",
       "      <td>4.0</td>\n",
       "    </tr>\n",
       "    <tr>\n",
       "      <th>1</th>\n",
       "      <td>54.0</td>\n",
       "      <td>40.0</td>\n",
       "    </tr>\n",
       "    <tr>\n",
       "      <th>2</th>\n",
       "      <td>70.0</td>\n",
       "      <td>160.0</td>\n",
       "    </tr>\n",
       "    <tr>\n",
       "      <th>3</th>\n",
       "      <td>256.0</td>\n",
       "      <td>576.0</td>\n",
       "    </tr>\n",
       "    <tr>\n",
       "      <th>4</th>\n",
       "      <td>185.0</td>\n",
       "      <td>438.0</td>\n",
       "    </tr>\n",
       "    <tr>\n",
       "      <th>5</th>\n",
       "      <td>104.0</td>\n",
       "      <td>183.0</td>\n",
       "    </tr>\n",
       "    <tr>\n",
       "      <th>6</th>\n",
       "      <td>32.0</td>\n",
       "      <td>61.0</td>\n",
       "    </tr>\n",
       "    <tr>\n",
       "      <th>7</th>\n",
       "      <td>10.0</td>\n",
       "      <td>29.0</td>\n",
       "    </tr>\n",
       "    <tr>\n",
       "      <th>8</th>\n",
       "      <td>0.0</td>\n",
       "      <td>5.0</td>\n",
       "    </tr>\n",
       "  </tbody>\n",
       "</table>\n",
       "</div>"
      ],
      "text/plain": [
       "Status    Survivor  Victim\n",
       "AgeGroup                  \n",
       "0              0.0     4.0\n",
       "1             54.0    40.0\n",
       "2             70.0   160.0\n",
       "3            256.0   576.0\n",
       "4            185.0   438.0\n",
       "5            104.0   183.0\n",
       "6             32.0    61.0\n",
       "7             10.0    29.0\n",
       "8              0.0     5.0"
      ]
     },
     "execution_count": 50,
     "metadata": {},
     "output_type": "execute_result"
    }
   ],
   "source": [
    "#создание dataset, отображающего зависимость принадлежности к возростной группе и статуса выживания\n",
    "Age_by_status=data.groupby(['AgeGroup','Status'])\n",
    "Age_by_status=Age_by_status.size().unstack()\n",
    "Age_by_status.fillna(0, inplace=True)\n",
    "Age_by_status"
   ]
  },
  {
   "cell_type": "code",
   "execution_count": 51,
   "metadata": {
    "collapsed": true,
    "jupyter": {
     "outputs_hidden": true
    }
   },
   "outputs": [
    {
     "data": {
      "text/html": [
       "<div>\n",
       "<style scoped>\n",
       "    .dataframe tbody tr th:only-of-type {\n",
       "        vertical-align: middle;\n",
       "    }\n",
       "\n",
       "    .dataframe tbody tr th {\n",
       "        vertical-align: top;\n",
       "    }\n",
       "\n",
       "    .dataframe thead th {\n",
       "        text-align: right;\n",
       "    }\n",
       "</style>\n",
       "<table border=\"1\" class=\"dataframe\">\n",
       "  <thead>\n",
       "    <tr style=\"text-align: right;\">\n",
       "      <th>Status</th>\n",
       "      <th>Survivor</th>\n",
       "      <th>Victim</th>\n",
       "    </tr>\n",
       "    <tr>\n",
       "      <th>Embarked</th>\n",
       "      <th></th>\n",
       "      <th></th>\n",
       "    </tr>\n",
       "  </thead>\n",
       "  <tbody>\n",
       "    <tr>\n",
       "      <th>Belfast</th>\n",
       "      <td>43</td>\n",
       "      <td>155</td>\n",
       "    </tr>\n",
       "    <tr>\n",
       "      <th>Cherbourg</th>\n",
       "      <td>154</td>\n",
       "      <td>118</td>\n",
       "    </tr>\n",
       "    <tr>\n",
       "      <th>Queenstown</th>\n",
       "      <td>44</td>\n",
       "      <td>79</td>\n",
       "    </tr>\n",
       "    <tr>\n",
       "      <th>Southampton</th>\n",
       "      <td>470</td>\n",
       "      <td>1144</td>\n",
       "    </tr>\n",
       "  </tbody>\n",
       "</table>\n",
       "</div>"
      ],
      "text/plain": [
       "Status       Survivor  Victim\n",
       "Embarked                     \n",
       "Belfast            43     155\n",
       "Cherbourg         154     118\n",
       "Queenstown         44      79\n",
       "Southampton       470    1144"
      ]
     },
     "execution_count": 51,
     "metadata": {},
     "output_type": "execute_result"
    }
   ],
   "source": [
    "#создание dataset, отображающего зависимость места посадки на корабль и статуса выживания\n",
    "Embarked_by_status=data.groupby(['Embarked','Status'])\n",
    "Embarked_by_status=Embarked_by_status.size().unstack()\n",
    "Embarked_by_status"
   ]
  },
  {
   "cell_type": "code",
   "execution_count": 52,
   "metadata": {
    "collapsed": true,
    "jupyter": {
     "outputs_hidden": true
    }
   },
   "outputs": [
    {
     "data": {
      "text/html": [
       "<div>\n",
       "<style scoped>\n",
       "    .dataframe tbody tr th:only-of-type {\n",
       "        vertical-align: middle;\n",
       "    }\n",
       "\n",
       "    .dataframe tbody tr th {\n",
       "        vertical-align: top;\n",
       "    }\n",
       "\n",
       "    .dataframe thead th {\n",
       "        text-align: right;\n",
       "    }\n",
       "</style>\n",
       "<table border=\"1\" class=\"dataframe\">\n",
       "  <thead>\n",
       "    <tr style=\"text-align: right;\">\n",
       "      <th>Status</th>\n",
       "      <th>Survivor</th>\n",
       "      <th>Victim</th>\n",
       "    </tr>\n",
       "    <tr>\n",
       "      <th>Crew or Passenger?</th>\n",
       "      <th></th>\n",
       "      <th></th>\n",
       "    </tr>\n",
       "  </thead>\n",
       "  <tbody>\n",
       "    <tr>\n",
       "      <th>Crew</th>\n",
       "      <td>211</td>\n",
       "      <td>679</td>\n",
       "    </tr>\n",
       "    <tr>\n",
       "      <th>Passenger</th>\n",
       "      <td>500</td>\n",
       "      <td>817</td>\n",
       "    </tr>\n",
       "  </tbody>\n",
       "</table>\n",
       "</div>"
      ],
      "text/plain": [
       "Status              Survivor  Victim\n",
       "Crew or Passenger?                  \n",
       "Crew                     211     679\n",
       "Passenger                500     817"
      ]
     },
     "execution_count": 52,
     "metadata": {},
     "output_type": "execute_result"
    }
   ],
   "source": [
    "#создание dataset, отображающего зависимость роль на корабле и статуса выживания\n",
    "Cr_or_pas_by_status=data.groupby(['Crew or Passenger?','Status'])\n",
    "Cr_or_pas_by_status=Cr_or_pas_by_status.size().unstack()\n",
    "Cr_or_pas_by_status"
   ]
  },
  {
   "cell_type": "code",
   "execution_count": 53,
   "metadata": {
    "collapsed": true,
    "jupyter": {
     "outputs_hidden": true
    }
   },
   "outputs": [
    {
     "data": {
      "text/html": [
       "<div>\n",
       "<style scoped>\n",
       "    .dataframe tbody tr th:only-of-type {\n",
       "        vertical-align: middle;\n",
       "    }\n",
       "\n",
       "    .dataframe tbody tr th {\n",
       "        vertical-align: top;\n",
       "    }\n",
       "\n",
       "    .dataframe thead th {\n",
       "        text-align: right;\n",
       "    }\n",
       "</style>\n",
       "<table border=\"1\" class=\"dataframe\">\n",
       "  <thead>\n",
       "    <tr style=\"text-align: right;\">\n",
       "      <th>Gender</th>\n",
       "      <th>Female</th>\n",
       "      <th>Male</th>\n",
       "    </tr>\n",
       "    <tr>\n",
       "      <th>Crew or Passenger?</th>\n",
       "      <th></th>\n",
       "      <th></th>\n",
       "    </tr>\n",
       "  </thead>\n",
       "  <tbody>\n",
       "    <tr>\n",
       "      <th>Crew</th>\n",
       "      <td>23</td>\n",
       "      <td>1081</td>\n",
       "    </tr>\n",
       "    <tr>\n",
       "      <th>Passenger</th>\n",
       "      <td>481</td>\n",
       "      <td>871</td>\n",
       "    </tr>\n",
       "  </tbody>\n",
       "</table>\n",
       "</div>"
      ],
      "text/plain": [
       "Gender              Female  Male\n",
       "Crew or Passenger?              \n",
       "Crew                    23  1081\n",
       "Passenger              481   871"
      ]
     },
     "execution_count": 53,
     "metadata": {},
     "output_type": "execute_result"
    }
   ],
   "source": [
    "#создание dataset, отображающего зависимость роль на корабле и статуса выживания\n",
    "Cr_or_pas_by_gender=data.groupby(['Crew or Passenger?','Gender'])\n",
    "Cr_or_pas_by_gender=Cr_or_pas_by_gender.size().unstack()\n",
    "Cr_or_pas_by_gender"
   ]
  },
  {
   "cell_type": "code",
   "execution_count": 54,
   "metadata": {
    "collapsed": true,
    "jupyter": {
     "outputs_hidden": true
    }
   },
   "outputs": [],
   "source": [
    "#создание способа перевода данных в процентные соотношения\n",
    "def map_to_percent(r):\n",
    "    return [float(v)/sum(r) for v in r]"
   ]
  },
  {
   "cell_type": "code",
   "execution_count": 55,
   "metadata": {
    "collapsed": true,
    "jupyter": {
     "outputs_hidden": true
    }
   },
   "outputs": [],
   "source": [
    "#импорт библиотеки seaborn по именем sb - библиотека для тепловой карты\n",
    "import seaborn as sb"
   ]
  },
  {
   "cell_type": "code",
   "execution_count": 56,
   "metadata": {
    "collapsed": true,
    "jupyter": {
     "outputs_hidden": true
    }
   },
   "outputs": [
    {
     "data": {
      "text/plain": [
       "<matplotlib.axes._subplots.AxesSubplot at 0x7fefdd1376a0>"
      ]
     },
     "execution_count": 56,
     "metadata": {},
     "output_type": "execute_result"
    },
    {
     "data": {
      "image/png": "[encoded data removed]",
      "text/plain": [
       "<Figure size 432x288 with 1 Axes>"
      ]
     },
     "metadata": {
      "needs_background": "light"
     },
     "output_type": "display_data"
    }
   ],
   "source": [
    "#График вероятнотных соотношений статуса выживания и пола\n",
    "Gender_by_status.apply(map_to_percent,axis=1,result_type='expand').plot(kind='barh',stacked=True)#apply - приведение к процентному соотношению plot - построение граифка"
   ]
  },
  {
   "cell_type": "code",
   "execution_count": 57,
   "metadata": {
    "collapsed": true,
    "jupyter": {
     "outputs_hidden": true
    }
   },
   "outputs": [
    {
     "data": {
      "text/plain": [
       "<matplotlib.axes._subplots.AxesSubplot at 0x7fefdd31c9a0>"
      ]
     },
     "execution_count": 57,
     "metadata": {},
     "output_type": "execute_result"
    },
    {
     "data": {
      "image/png": "[encoded data removed]",
      "text/plain": [
       "<Figure size 432x288 with 2 Axes>"
      ]
     },
     "metadata": {
      "needs_background": "light"
     },
     "output_type": "display_data"
    }
   ],
   "source": [
    "#Тепловая карта - Гендер - Статус\n",
    "sb.heatmap(Gender_by_status)"
   ]
  },
  {
   "cell_type": "code",
   "execution_count": 58,
   "metadata": {
    "collapsed": true,
    "jupyter": {
     "outputs_hidden": true
    }
   },
   "outputs": [
    {
     "data": {
      "text/plain": [
       "<matplotlib.axes._subplots.AxesSubplot at 0x7fefdd3fcd60>"
      ]
     },
     "execution_count": 58,
     "metadata": {},
     "output_type": "execute_result"
    },
    {
     "data": {
      "image/png": "[encoded data removed]",
      "text/plain": [
       "<Figure size 432x288 with 1 Axes>"
      ]
     },
     "metadata": {
      "needs_background": "light"
     },
     "output_type": "display_data"
    }
   ],
   "source": [
    "#График вероятнотных соотношений статуса выживания ивозростной группы\n",
    "Age_by_status.apply(map_to_percent,axis=1,result_type='expand').plot(kind='barh',stacked=True)"
   ]
  },
  {
   "cell_type": "code",
   "execution_count": 59,
   "metadata": {
    "collapsed": true,
    "jupyter": {
     "outputs_hidden": true
    }
   },
   "outputs": [
    {
     "data": {
      "text/plain": [
       "<matplotlib.axes._subplots.AxesSubplot at 0x7fefdd4e60d0>"
      ]
     },
     "execution_count": 59,
     "metadata": {},
     "output_type": "execute_result"
    },
    {
     "data": {
      "image/png": "[encoded data removed]",
      "text/plain": [
       "<Figure size 432x288 with 2 Axes>"
      ]
     },
     "metadata": {
      "needs_background": "light"
     },
     "output_type": "display_data"
    }
   ],
   "source": [
    "#Тепловая карта - Возростная группа - Статус\n",
    "sb.heatmap(Age_by_status)"
   ]
  },
  {
   "cell_type": "code",
   "execution_count": 60,
   "metadata": {
    "collapsed": true,
    "jupyter": {
     "outputs_hidden": true
    }
   },
   "outputs": [
    {
     "data": {
      "text/plain": [
       "<matplotlib.axes._subplots.AxesSubplot at 0x7fefdd5f5ac0>"
      ]
     },
     "execution_count": 60,
     "metadata": {},
     "output_type": "execute_result"
    },
    {
     "data": {
      "image/png": "[encoded data removed]",
      "text/plain": [
       "<Figure size 432x288 with 1 Axes>"
      ]
     },
     "metadata": {
      "needs_background": "light"
     },
     "output_type": "display_data"
    }
   ],
   "source": [
    "#График вероятнотных соотношений статуса выживания и места посадки неа корабль\n",
    "Embarked_by_status.apply(map_to_percent,axis=1,result_type='expand').plot(kind='barh',stacked=True)"
   ]
  },
  {
   "cell_type": "code",
   "execution_count": 61,
   "metadata": {
    "collapsed": true,
    "jupyter": {
     "outputs_hidden": true
    }
   },
   "outputs": [
    {
     "data": {
      "text/plain": [
       "<matplotlib.axes._subplots.AxesSubplot at 0x7fefdd6dbbe0>"
      ]
     },
     "execution_count": 61,
     "metadata": {},
     "output_type": "execute_result"
    },
    {
     "data": {
      "image/png": "[encoded data removed]",
      "text/plain": [
       "<Figure size 432x288 with 2 Axes>"
      ]
     },
     "metadata": {
      "needs_background": "light"
     },
     "output_type": "display_data"
    }
   ],
   "source": [
    "#Тепловая карта - Место посадки - Статус\n",
    "sb.heatmap(Embarked_by_status)"
   ]
  },
  {
   "cell_type": "code",
   "execution_count": 62,
   "metadata": {
    "collapsed": true,
    "jupyter": {
     "outputs_hidden": true
    }
   },
   "outputs": [
    {
     "data": {
      "text/plain": [
       "<matplotlib.axes._subplots.AxesSubplot at 0x7fefdd7bee80>"
      ]
     },
     "execution_count": 62,
     "metadata": {},
     "output_type": "execute_result"
    },
    {
     "data": {
      "image/png": "[encoded data removed]",
      "text/plain": [
       "<Figure size 432x288 with 1 Axes>"
      ]
     },
     "metadata": {
      "needs_background": "light"
     },
     "output_type": "display_data"
    }
   ],
   "source": [
    "#График вероятнотных соотношений статуса выживания и роли на корабле\n",
    "Cr_or_pas_by_status.apply(map_to_percent,axis=1,result_type='expand').plot(kind='barh',stacked=True)"
   ]
  },
  {
   "cell_type": "code",
   "execution_count": 63,
   "metadata": {
    "collapsed": true,
    "jupyter": {
     "outputs_hidden": true
    }
   },
   "outputs": [
    {
     "data": {
      "text/plain": [
       "<matplotlib.axes._subplots.AxesSubplot at 0x7fefdd8896a0>"
      ]
     },
     "execution_count": 63,
     "metadata": {},
     "output_type": "execute_result"
    },
    {
     "data": {
      "image/png": "[encoded data removed]",
      "text/plain": [
       "<Figure size 432x288 with 2 Axes>"
      ]
     },
     "metadata": {
      "needs_background": "light"
     },
     "output_type": "display_data"
    }
   ],
   "source": [
    "#Тепловая карта - Роль на корабле- Статус\n",
    "sb.heatmap(Cr_or_pas_by_status)"
   ]
  },
  {
   "cell_type": "code",
   "execution_count": 64,
   "metadata": {
    "collapsed": true,
    "jupyter": {
     "outputs_hidden": true
    }
   },
   "outputs": [
    {
     "data": {
      "text/plain": [
       "<matplotlib.axes._subplots.AxesSubplot at 0x7fefdd996250>"
      ]
     },
     "execution_count": 64,
     "metadata": {},
     "output_type": "execute_result"
    },
    {
     "data": {
      "image/png": "[encoded data removed]",
      "text/plain": [
       "<Figure size 432x288 with 1 Axes>"
      ]
     },
     "metadata": {
      "needs_background": "light"
     },
     "output_type": "display_data"
    }
   ],
   "source": [
    "#График вероятнотных соотношений гендера и роли на корабле\n",
    "Cr_or_pas_by_gender.apply(map_to_percent,axis=1,result_type='expand').plot(kind='barh',stacked=True)"
   ]
  },
  {
   "cell_type": "code",
   "execution_count": 66,
   "metadata": {
    "collapsed": true,
    "jupyter": {
     "outputs_hidden": true
    }
   },
   "outputs": [
    {
     "data": {
      "text/plain": [
       "<matplotlib.axes._subplots.AxesSubplot at 0x7fefdc1fd880>"
      ]
     },
     "execution_count": 66,
     "metadata": {},
     "output_type": "execute_result"
    },
    {
     "data": {
      "image/png": "[encoded data removed]",
      "text/plain": [
       "<Figure size 432x288 with 2 Axes>"
      ]
     },
     "metadata": {
      "needs_background": "light"
     },
     "output_type": "display_data"
    }
   ],
   "source": [
    "#Тепловая карта - Роль на корабле - Гендер\n",
    "sb.heatmap(Cr_or_pas_by_gender) "
   ]
  },
  {
   "cell_type": "code",
   "execution_count": null,
   "metadata": {
    "collapsed": true,
    "jupyter": {
     "outputs_hidden": true
    }
   },
   "outputs": [],
   "source": []
  }
 ],
 "metadata": {
  "kernelspec": {
   "display_name": "Python 3",
   "language": "python",
   "name": "python3"
  },
  "language_info": {
   "codemirror_mode": {
    "name": "ipython",
    "version": 3
   },
   "file_extension": ".py",
   "mimetype": "text/x-python",
   "name": "python",
   "nbconvert_exporter": "python",
   "pygments_lexer": "ipython3",
   "version": "3.8.3"
  }
 },
 "nbformat": 4,
 "nbformat_minor": 4
}
